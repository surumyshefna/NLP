{
 "cells": [
  {
   "cell_type": "markdown",
   "id": "98a3517b-cae5-4d56-8d2e-82603e0bcadd",
   "metadata": {},
   "source": [
    "## NLP EMOTION ANALYSIS"
   ]
  },
  {
   "cell_type": "code",
   "execution_count": 11,
   "id": "f7bf93fa-b7b7-4631-ba75-b86aec227b1d",
   "metadata": {},
   "outputs": [
    {
     "data": {
      "text/html": [
       "<div>\n",
       "<style scoped>\n",
       "    .dataframe tbody tr th:only-of-type {\n",
       "        vertical-align: middle;\n",
       "    }\n",
       "\n",
       "    .dataframe tbody tr th {\n",
       "        vertical-align: top;\n",
       "    }\n",
       "\n",
       "    .dataframe thead th {\n",
       "        text-align: right;\n",
       "    }\n",
       "</style>\n",
       "<table border=\"1\" class=\"dataframe\">\n",
       "  <thead>\n",
       "    <tr style=\"text-align: right;\">\n",
       "      <th></th>\n",
       "      <th>Comment</th>\n",
       "      <th>Emotion</th>\n",
       "    </tr>\n",
       "  </thead>\n",
       "  <tbody>\n",
       "    <tr>\n",
       "      <th>0</th>\n",
       "      <td>i seriously hate one subject to death but now ...</td>\n",
       "      <td>fear</td>\n",
       "    </tr>\n",
       "    <tr>\n",
       "      <th>1</th>\n",
       "      <td>im so full of life i feel appalled</td>\n",
       "      <td>anger</td>\n",
       "    </tr>\n",
       "    <tr>\n",
       "      <th>2</th>\n",
       "      <td>i sit here to write i start to dig out my feel...</td>\n",
       "      <td>fear</td>\n",
       "    </tr>\n",
       "    <tr>\n",
       "      <th>3</th>\n",
       "      <td>ive been really angry with r and i feel like a...</td>\n",
       "      <td>joy</td>\n",
       "    </tr>\n",
       "    <tr>\n",
       "      <th>4</th>\n",
       "      <td>i feel suspicious if there is no one outside l...</td>\n",
       "      <td>fear</td>\n",
       "    </tr>\n",
       "    <tr>\n",
       "      <th>...</th>\n",
       "      <td>...</td>\n",
       "      <td>...</td>\n",
       "    </tr>\n",
       "    <tr>\n",
       "      <th>5932</th>\n",
       "      <td>i begun to feel distressed for you</td>\n",
       "      <td>fear</td>\n",
       "    </tr>\n",
       "    <tr>\n",
       "      <th>5933</th>\n",
       "      <td>i left feeling annoyed and angry thinking that...</td>\n",
       "      <td>anger</td>\n",
       "    </tr>\n",
       "    <tr>\n",
       "      <th>5934</th>\n",
       "      <td>i were to ever get married i d have everything...</td>\n",
       "      <td>joy</td>\n",
       "    </tr>\n",
       "    <tr>\n",
       "      <th>5935</th>\n",
       "      <td>i feel reluctant in applying there because i w...</td>\n",
       "      <td>fear</td>\n",
       "    </tr>\n",
       "    <tr>\n",
       "      <th>5936</th>\n",
       "      <td>i just wanted to apologize to you because i fe...</td>\n",
       "      <td>anger</td>\n",
       "    </tr>\n",
       "  </tbody>\n",
       "</table>\n",
       "<p>5937 rows × 2 columns</p>\n",
       "</div>"
      ],
      "text/plain": [
       "                                                Comment Emotion\n",
       "0     i seriously hate one subject to death but now ...    fear\n",
       "1                    im so full of life i feel appalled   anger\n",
       "2     i sit here to write i start to dig out my feel...    fear\n",
       "3     ive been really angry with r and i feel like a...     joy\n",
       "4     i feel suspicious if there is no one outside l...    fear\n",
       "...                                                 ...     ...\n",
       "5932                 i begun to feel distressed for you    fear\n",
       "5933  i left feeling annoyed and angry thinking that...   anger\n",
       "5934  i were to ever get married i d have everything...     joy\n",
       "5935  i feel reluctant in applying there because i w...    fear\n",
       "5936  i just wanted to apologize to you because i fe...   anger\n",
       "\n",
       "[5937 rows x 2 columns]"
      ]
     },
     "execution_count": 11,
     "metadata": {},
     "output_type": "execute_result"
    }
   ],
   "source": [
    "# Import necessary libraries\n",
    "import pandas as pd\n",
    "import numpy as np\n",
    "import seaborn as sns\n",
    "\n",
    "# Load the dataset from the provided file path\n",
    "file_path = 'nlp_dataset.csv'\n",
    "data = pd.read_csv(file_path)\n",
    "df=pd.DataFrame(data)\n",
    "df"
   ]
  },
  {
   "cell_type": "code",
   "execution_count": 7,
   "id": "f9cd77ba-3ca0-4601-bb73-68bfa931e762",
   "metadata": {},
   "outputs": [
    {
     "data": {
      "text/html": [
       "<div>\n",
       "<style scoped>\n",
       "    .dataframe tbody tr th:only-of-type {\n",
       "        vertical-align: middle;\n",
       "    }\n",
       "\n",
       "    .dataframe tbody tr th {\n",
       "        vertical-align: top;\n",
       "    }\n",
       "\n",
       "    .dataframe thead th {\n",
       "        text-align: right;\n",
       "    }\n",
       "</style>\n",
       "<table border=\"1\" class=\"dataframe\">\n",
       "  <thead>\n",
       "    <tr style=\"text-align: right;\">\n",
       "      <th></th>\n",
       "      <th>Comment</th>\n",
       "      <th>Emotion</th>\n",
       "    </tr>\n",
       "  </thead>\n",
       "  <tbody>\n",
       "    <tr>\n",
       "      <th>0</th>\n",
       "      <td>i seriously hate one subject to death but now ...</td>\n",
       "      <td>fear</td>\n",
       "    </tr>\n",
       "    <tr>\n",
       "      <th>1</th>\n",
       "      <td>im so full of life i feel appalled</td>\n",
       "      <td>anger</td>\n",
       "    </tr>\n",
       "    <tr>\n",
       "      <th>2</th>\n",
       "      <td>i sit here to write i start to dig out my feel...</td>\n",
       "      <td>fear</td>\n",
       "    </tr>\n",
       "    <tr>\n",
       "      <th>3</th>\n",
       "      <td>ive been really angry with r and i feel like a...</td>\n",
       "      <td>joy</td>\n",
       "    </tr>\n",
       "    <tr>\n",
       "      <th>4</th>\n",
       "      <td>i feel suspicious if there is no one outside l...</td>\n",
       "      <td>fear</td>\n",
       "    </tr>\n",
       "  </tbody>\n",
       "</table>\n",
       "</div>"
      ],
      "text/plain": [
       "                                             Comment Emotion\n",
       "0  i seriously hate one subject to death but now ...    fear\n",
       "1                 im so full of life i feel appalled   anger\n",
       "2  i sit here to write i start to dig out my feel...    fear\n",
       "3  ive been really angry with r and i feel like a...     joy\n",
       "4  i feel suspicious if there is no one outside l...    fear"
      ]
     },
     "execution_count": 7,
     "metadata": {},
     "output_type": "execute_result"
    }
   ],
   "source": [
    "df.head()"
   ]
  },
  {
   "cell_type": "code",
   "execution_count": 12,
   "id": "a1fe9259-ec23-4d92-b6c7-eedf1ff51a5f",
   "metadata": {},
   "outputs": [
    {
     "data": {
      "text/plain": [
       "<Axes: xlabel='Emotion', ylabel='count'>"
      ]
     },
     "execution_count": 12,
     "metadata": {},
     "output_type": "execute_result"
    },
    {
     "data": {
      "image/png": "[encoded data removed]",
      "text/plain": [
       "<Figure size 640x480 with 1 Axes>"
      ]
     },
     "metadata": {},
     "output_type": "display_data"
    }
   ],
   "source": [
    "y=df['Emotion']\n",
    "x=df[\"Comment\"]\n",
    "counts = df['Emotion'].value_counts()\n",
    "sns.countplot(x='Emotion', data=df)"
   ]
  },
  {
   "cell_type": "code",
   "execution_count": 15,
   "id": "15b701ca-1ebf-4875-a83e-fd947d436b51",
   "metadata": {},
   "outputs": [
    {
     "data": {
      "text/plain": [
       "Emotion\n",
       "anger    2000\n",
       "joy      2000\n",
       "fear     1937\n",
       "Name: count, dtype: int64"
      ]
     },
     "execution_count": 15,
     "metadata": {},
     "output_type": "execute_result"
    }
   ],
   "source": [
    "counts"
   ]
  },
  {
   "cell_type": "markdown",
   "id": "641f24ef-eb6e-4edd-ae36-fd63769ee03c",
   "metadata": {},
   "source": [
    "## Text Preprocessing\n",
    "\n",
    "Preprocessing text data is crucial in Natural Language Processing (NLP) tasks. Raw text often contains noise, irrelevant information, and inconsistencies that can negatively impact the performance of machine learning models. The preprocessing techniques used in this project are aimed at cleaning and standardizing the text data, which improves the effectiveness of feature extraction and subsequently enhances model performance.\n",
    "\n",
    "The preprocessing steps will include:\n",
    "\n",
    "1.Lowercasing\n",
    "\n",
    "2.Removing punctuation\n",
    "\n",
    "3.Tokenization\n",
    "\n",
    "4.Removing stopwords\n",
    "\n",
    "5.Lemmatization"
   ]
  },
  {
   "cell_type": "code",
   "execution_count": null,
   "id": "01c57562-1f72-4395-8d40-59b8104e7a3e",
   "metadata": {},
   "outputs": [],
   "source": []
  },
  {
   "cell_type": "markdown",
   "id": "6a41bdb3-bbdc-453e-8c62-8550163aee60",
   "metadata": {},
   "source": [
    "## Step 1: Lowercasing\n",
    "Lowercasing the text ensures that words like \"Happy\" and \"happy\" are treated as the same word, preventing redundancy in the feature set. Without this step, the model would treat them as separate features, which dilutes the importance of the word across the dataset.\n",
    "\n",
    "**Impact on model performance:**\n",
    "\n",
    "Improvement: This technique reduces the number of features (words), allowing models to focus on meaningful patterns rather than case variations.\n",
    "\n",
    "Without Lowercasing: Duplicate features lead to unnecessary dimensionality, which can increase the training time and reduce the accuracy of the model."
   ]
  },
  {
   "cell_type": "markdown",
   "id": "1cfe9fba-b150-4874-a926-94bf35a4e9a6",
   "metadata": {},
   "source": [
    "## Step 2: Removing Punctuation\n",
    "Punctuation generally does not contribute to the meaning of a text in classification problems. Removing punctuation reduces noise and makes the text cleaner for feature extraction.\n",
    "\n",
    "**Impact on model performance:**\n",
    "\n",
    "Improvement: Removing punctuation ensures that words are treated as continuous text without unnecessary symbols. This simplifies the vocabulary and improves feature extraction.\n",
    "\n",
    "Without Punctuation Removal: Punctuation can be treated as separate features by models, leading to uninformative features and decreasing performance.\n"
   ]
  },
  {
   "cell_type": "markdown",
   "id": "2e6aae9b-e4fc-454f-8dc1-739331b3dc10",
   "metadata": {},
   "source": [
    "## Step 3: Tokenization\n",
    "\n",
    "Tokenization splits the text into individual words (tokens), allowing models to understand each word as a separate feature. This is essential for transforming text into a numerical form that machine learning models can process.\n",
    "\n",
    "**Impact on model performance:**\n",
    "\n",
    "Improvement: Tokenization allows the model to assign importance to each individual word, enabling a more granular understanding of the text.\n",
    "\n",
    "Without Tokenization: Without tokenization, the entire text is treated as a single feature, which would not provide any meaningful patterns to the model."
   ]
  },
  {
   "cell_type": "markdown",
   "id": "ac2bbd67-9171-4898-a797-199768eaca54",
   "metadata": {},
   "source": [
    "## Step 4: Removing Stopwords\n",
    "Stopwords are common words like \"the\", \"is\", and \"in\" that occur frequently but don’t carry significant meaning in most cases. Removing stopwords reduces the feature set to only the most important words, improving model efficiency and performance.\n",
    "\n",
    "**Impact on model performance:**\n",
    "\n",
    "Improvement: By eliminating common, irrelevant words, the model focuses on words that carry more meaningful information for classification.\n",
    "\n",
    "Without Stopword Removal: Including stopwords would add noise to the data, increasing dimensionality without contributing much to model accuracy.\n"
   ]
  },
  {
   "cell_type": "markdown",
   "id": "93870db9-c056-46ab-b4c4-c201db6ae353",
   "metadata": {},
   "source": [
    "## Step 5: Lemmatization\n",
    "\n",
    "Lemmatization reduces words to their base form (lemma), such as converting \"running\" to \"run\". This helps in standardizing words, ensuring that different forms of the same word are treated as a single feature.\n",
    "\n",
    "**Impact on model performance:**\n",
    "\n",
    "Improvement: Lemmatization reduces feature space by grouping different forms of the same word, allowing the model to better understand the core meaning of the text.\n",
    "\n",
    "Without Lemmatization: Variations of words like \"running\", \"runs\", \"ran\" would be treated as separate features, leading to redundant features and a more complex model."
   ]
  },
  {
   "cell_type": "code",
   "execution_count": 8,
   "id": "6ba4f105-f868-4292-9f55-8afd83e9710d",
   "metadata": {},
   "outputs": [
    {
     "name": "stderr",
     "output_type": "stream",
     "text": [
      "[nltk_data] Downloading package punkt to\n",
      "[nltk_data]     C:\\Users\\DELL\\AppData\\Roaming\\nltk_data...\n",
      "[nltk_data]   Package punkt is already up-to-date!\n",
      "[nltk_data] Downloading package stopwords to\n",
      "[nltk_data]     C:\\Users\\DELL\\AppData\\Roaming\\nltk_data...\n",
      "[nltk_data]   Package stopwords is already up-to-date!\n",
      "[nltk_data] Downloading package wordnet to\n",
      "[nltk_data]     C:\\Users\\DELL\\AppData\\Roaming\\nltk_data...\n",
      "[nltk_data]   Package wordnet is already up-to-date!\n"
     ]
    },
    {
     "data": {
      "text/html": [
       "<div>\n",
       "<style scoped>\n",
       "    .dataframe tbody tr th:only-of-type {\n",
       "        vertical-align: middle;\n",
       "    }\n",
       "\n",
       "    .dataframe tbody tr th {\n",
       "        vertical-align: top;\n",
       "    }\n",
       "\n",
       "    .dataframe thead th {\n",
       "        text-align: right;\n",
       "    }\n",
       "</style>\n",
       "<table border=\"1\" class=\"dataframe\">\n",
       "  <thead>\n",
       "    <tr style=\"text-align: right;\">\n",
       "      <th></th>\n",
       "      <th>Comment</th>\n",
       "      <th>clean_text</th>\n",
       "    </tr>\n",
       "  </thead>\n",
       "  <tbody>\n",
       "    <tr>\n",
       "      <th>0</th>\n",
       "      <td>i seriously hate one subject to death but now ...</td>\n",
       "      <td>seriously hate one subject death feel reluctan...</td>\n",
       "    </tr>\n",
       "    <tr>\n",
       "      <th>1</th>\n",
       "      <td>im so full of life i feel appalled</td>\n",
       "      <td>im full life feel appalled</td>\n",
       "    </tr>\n",
       "    <tr>\n",
       "      <th>2</th>\n",
       "      <td>i sit here to write i start to dig out my feel...</td>\n",
       "      <td>sit write start dig feeling think afraid accep...</td>\n",
       "    </tr>\n",
       "    <tr>\n",
       "      <th>3</th>\n",
       "      <td>ive been really angry with r and i feel like a...</td>\n",
       "      <td>ive really angry r feel like idiot trusting fi...</td>\n",
       "    </tr>\n",
       "    <tr>\n",
       "      <th>4</th>\n",
       "      <td>i feel suspicious if there is no one outside l...</td>\n",
       "      <td>feel suspicious one outside like rapture happe...</td>\n",
       "    </tr>\n",
       "  </tbody>\n",
       "</table>\n",
       "</div>"
      ],
      "text/plain": [
       "                                             Comment  \\\n",
       "0  i seriously hate one subject to death but now ...   \n",
       "1                 im so full of life i feel appalled   \n",
       "2  i sit here to write i start to dig out my feel...   \n",
       "3  ive been really angry with r and i feel like a...   \n",
       "4  i feel suspicious if there is no one outside l...   \n",
       "\n",
       "                                          clean_text  \n",
       "0  seriously hate one subject death feel reluctan...  \n",
       "1                         im full life feel appalled  \n",
       "2  sit write start dig feeling think afraid accep...  \n",
       "3  ive really angry r feel like idiot trusting fi...  \n",
       "4  feel suspicious one outside like rapture happe...  "
      ]
     },
     "execution_count": 8,
     "metadata": {},
     "output_type": "execute_result"
    }
   ],
   "source": [
    "# Import necessary libraries for text preprocessing\n",
    "import nltk\n",
    "from nltk.corpus import stopwords\n",
    "from nltk.tokenize import word_tokenize\n",
    "from nltk.stem import WordNetLemmatizer\n",
    "import warnings\n",
    "import string\n",
    "warnings.filterwarnings('ignore')\n",
    "\n",
    "# Download necessary NLTK data if not already present\n",
    "nltk.download('punkt')\n",
    "nltk.download('stopwords')\n",
    "nltk.download('wordnet')\n",
    "\n",
    "# Initialize stopwords and lemmatizer\n",
    "stop_words = set(stopwords.words('english'))\n",
    "lemmatizer = WordNetLemmatizer()\n",
    "\n",
    "# Function to preprocess text\n",
    "def preprocess_text(text):\n",
    "    \n",
    "    # Lowercase the text\n",
    "    text = text.lower()\n",
    "    \n",
    "    # Remove punctuation\n",
    "    text = text.translate(str.maketrans('', '', string.punctuation))\n",
    "    \n",
    "    # Tokenization\n",
    "    tokens = word_tokenize(text)\n",
    "    \n",
    "    # Remove stopwords and lemmatize\n",
    "    tokens = [lemmatizer.lemmatize(word) for word in tokens if word not in stop_words]\n",
    "    \n",
    "    # Join tokens back to string\n",
    "    return ' '.join(tokens)\n",
    "\n",
    "# Apply the preprocessing to the 'Comment' column\n",
    "data['clean_text'] = data['Comment'].apply(preprocess_text)\n",
    "\n",
    "# Display the cleaned text to verify\n",
    "data[['Comment', 'clean_text']].head()\n",
    "\n"
   ]
  },
  {
   "cell_type": "markdown",
   "id": "8a67f461-05f7-426a-b7fc-2c463df6aef6",
   "metadata": {},
   "source": [
    "**Impact of Preprocessing on Model Performance**\n",
    "    \n",
    "Lower Dimensionality: Preprocessing reduces the number of unique words (features) by removing unnecessary characters, making the model more efficient and less prone to overfitting.\n",
    "\n",
    "Focus on Important Words: By eliminating stopwords and standardizing words through lemmatization, the model learns from the most important and relevant words, improving accuracy.\n",
    "\n",
    "Better Generalization: Preprocessing ensures that the model focuses on the core meaning of the text, leading to better generalization on unseen data."
   ]
  },
  {
   "cell_type": "markdown",
   "id": "0e4dfee3-f6fe-4d4d-bfb7-0a4d9f0b2a84",
   "metadata": {},
   "source": [
    "## Feature Extraction \n",
    "In text classification tasks, machine learning models require numerical input. However, text data is inherently categorical, so we must first transform it into a numerical representation. This is where feature extraction comes in. One popular technique for this is TF-IDF Vectorization (Term Frequency-Inverse Document Frequency).\n",
    "use **TfidfVectorizer** to convert the cleaned text into numerical features.\n",
    "\n",
    "TfidfVectorizer converts the text data into a matrix of numerical features, where the weight of each word reflects how important it is within a text sample relative to the entire dataset."
   ]
  },
  {
   "cell_type": "code",
   "execution_count": 13,
   "id": "191e115a-b169-44a4-8bdb-e9722e59e537",
   "metadata": {},
   "outputs": [],
   "source": [
    "from sklearn.feature_extraction.text import TfidfVectorizer\n",
    "\n",
    "# Initialize TF-IDF Vectorizer\n",
    "vectorizer = TfidfVectorizer(max_features=5000)  # Limit to 5000 features for performance\n",
    "\n",
    "# Fit and transform the clean text into numerical features\n",
    "X = vectorizer.fit_transform(data['clean_text'])\n",
    "\n",
    "# Extract the emotions (target), \n",
    "y = data['Emotion']"
   ]
  },
  {
   "cell_type": "markdown",
   "id": "7793979b-4633-49b7-999f-0955279bc6da",
   "metadata": {},
   "source": [
    "TfidfVectorizer: This class converts a collection of raw text documents into a matrix of TF-IDF features.\n",
    "\n",
    "max_features=5000: Limits the number of features (terms) to 5000. This is a common technique to reduce dimensionality and focus on the most important words.\n",
    "\n",
    "stop_words='english': Removes common stopwords in the English language (like \"the\", \"and\", etc.) which are generally less useful for classification.\n",
    "\n",
    "fit_transform: Fits the vectorizer on the text data and transforms the text into numerical feature vectors.\n",
    "\n",
    "X: The resulting matrix of size (number of samples, number of features). Each row corresponds to a document (text sample), and each column corresponds to a term's TF-IDF score."
   ]
  },
  {
   "cell_type": "markdown",
   "id": "b5ed64d3-286c-4745-b7a4-c00e6106694e",
   "metadata": {},
   "source": [
    "## Model Development"
   ]
  },
  {
   "cell_type": "markdown",
   "id": "9da00f4c-c8d9-4899-b852-acb4130c4d46",
   "metadata": {},
   "source": [
    "**a) Naive Bayes Classifier**\n",
    "Naive Bayes is a probabilistic machine learning algorithm based on Bayes' Theorem. It assumes that the features (words in text data) are independent of each other given the class label, which is known as the naive independence assumption.\n",
    "\n",
    "In text classification, Naive Bayes calculates the likelihood of each word (feature) occurring in each emotion class and multiplies these probabilities to determine which class (emotion) is the most likely.\n",
    "\n",
    "Naive Bayes is Suitable for Emotion Classification because:\n",
    "-> Naive Bayes is computationally inexpensive and works well with large datasets, making it a good fit for text classification tasks like emotion detection.\n",
    "\n",
    "-> Text data, once vectorized using methods like TF-IDF, often results in sparse matrices. Naive Bayes handles this efficiently.\n",
    "\n",
    "-> Given the typically large number of features (words), Naive Bayes performs well by computing probabilities for each feature independently.\n",
    "\n",
    "-> Since emotion classification is often a multiclass problem (multiple emotions like happy, sad, angry), Naive Bayes can handle such problems with ease.\n"
   ]
  },
  {
   "cell_type": "code",
   "execution_count": 14,
   "id": "761f8391-aa8d-4526-a7a7-83c101f5f187",
   "metadata": {},
   "outputs": [
    {
     "name": "stdout",
     "output_type": "stream",
     "text": [
      "Naive Bayes Accuracy: 0.9082491582491582\n",
      "Naive Bayes Classification Report:\n",
      "               precision    recall  f1-score   support\n",
      "\n",
      "       anger       0.89      0.93      0.91       392\n",
      "        fear       0.92      0.92      0.92       416\n",
      "         joy       0.93      0.88      0.90       380\n",
      "\n",
      "    accuracy                           0.91      1188\n",
      "   macro avg       0.91      0.91      0.91      1188\n",
      "weighted avg       0.91      0.91      0.91      1188\n",
      "\n"
     ]
    }
   ],
   "source": [
    "from sklearn.model_selection import train_test_split\n",
    "from sklearn.naive_bayes import MultinomialNB\n",
    "from sklearn.metrics import accuracy_score, classification_report\n",
    "\n",
    "# Split the data into train and test sets\n",
    "X_train, X_test, y_train, y_test = train_test_split(X, y, test_size=0.2, random_state=42)\n",
    "\n",
    "# Initialize and train the Naive Bayes model\n",
    "nb_model = MultinomialNB()\n",
    "nb_model.fit(X_train, y_train)\n",
    "\n",
    "# Predict on the test set\n",
    "y_pred_nb = nb_model.predict(X_test)\n",
    "\n",
    "# Evaluate the Naive Bayes model\n",
    "print(\"Naive Bayes Accuracy:\", accuracy_score(y_test, y_pred_nb))\n",
    "print(\"Naive Bayes Classification Report:\\n\", classification_report(y_test, y_pred_nb))\n"
   ]
  },
  {
   "cell_type": "markdown",
   "id": "9b4dcc5d-58c7-46d2-b329-ddf23d10e1e1",
   "metadata": {},
   "source": [
    "**b) Support Vector Machine (SVM)**\n",
    "Support Vector Machine (SVM) is a supervised learning algorithm used for classification tasks. SVM aims to find the hyperplane in a high-dimensional space that best separates different classes of data points. For text classification, this means finding a boundary that separates different emotions based on word features.\n",
    "\n",
    "The goal of SVM is to find a hyperplane that maximizes the margin (the distance between the closest data points of each class, called support vectors). This margin maximization helps in better generalization of the model to new, unseen data.\n",
    "\n",
    "**Kernel Trick**: SVM can use a kernel trick to project the data into a higher-dimensional space to make the classification problem easier. For emotion classification, the linear kernel is often effective because text data is usually linearly separable after vectorization.\n",
    "\n",
    "SVM is Suitable for Emotion Classification because:\n",
    "-> SVM is known for its high classification accuracy, especially in high-dimensional spaces, which is common in text data (large number of features due to words).\n",
    "-> Handles High-Dimensional Data Well: Text classification problems often involve thousands of features (words), and SVM works well in such cases.\n",
    "-> Robust to Overfitting: By maximizing the margin between different classes, SVM is less prone to overfitting, especially in scenarios with high-dimensional data.\n",
    "-> Effective with Sparse Data: Like Naive Bayes, SVM also performs well with sparse data, which is common after text vectorization.\n"
   ]
  },
  {
   "cell_type": "code",
   "execution_count": 15,
   "id": "371125e4-6b5e-4bcf-b8b9-421a1b482792",
   "metadata": {},
   "outputs": [
    {
     "name": "stdout",
     "output_type": "stream",
     "text": [
      "SVM Accuracy: 0.9402356902356902\n",
      "SVM Classification Report:\n",
      "               precision    recall  f1-score   support\n",
      "\n",
      "       anger       0.93      0.95      0.94       392\n",
      "        fear       0.97      0.92      0.94       416\n",
      "         joy       0.93      0.96      0.94       380\n",
      "\n",
      "    accuracy                           0.94      1188\n",
      "   macro avg       0.94      0.94      0.94      1188\n",
      "weighted avg       0.94      0.94      0.94      1188\n",
      "\n"
     ]
    }
   ],
   "source": [
    "from sklearn.svm import SVC\n",
    "\n",
    "# Initialize and train the SVM model\n",
    "svm_model = SVC(kernel='linear')\n",
    "svm_model.fit(X_train, y_train)\n",
    "\n",
    "# Predict on the test set\n",
    "y_pred_svm = svm_model.predict(X_test)\n",
    "\n",
    "# Evaluate the SVM model\n",
    "print(\"SVM Accuracy:\", accuracy_score(y_test, y_pred_svm))\n",
    "print(\"SVM Classification Report:\\n\", classification_report(y_test, y_pred_svm))\n"
   ]
  },
  {
   "cell_type": "markdown",
   "id": "993865e1-9ec3-48b1-885b-1e3c0acc5b54",
   "metadata": {},
   "source": [
    "## Model Comparison "
   ]
  },
  {
   "cell_type": "code",
   "execution_count": 16,
   "id": "6db9657e-035b-44fc-8bf4-596e5bf1eecc",
   "metadata": {},
   "outputs": [
    {
     "name": "stdout",
     "output_type": "stream",
     "text": [
      "Naive Bayes Accuracy: 0.9082491582491582\n",
      "SVM Accuracy: 0.9402356902356902\n",
      "Naive Bayes F1-Score: 0.908214130438681\n",
      "SVM F1-Score: 0.9402398809099515\n"
     ]
    }
   ],
   "source": [
    "# Print accuracy scores for both models\n",
    "print(f\"Naive Bayes Accuracy: {accuracy_score(y_test, y_pred_nb)}\")\n",
    "print(f\"SVM Accuracy: {accuracy_score(y_test, y_pred_svm)}\")\n",
    "\n",
    "# Print F1-scores for both models\n",
    "from sklearn.metrics import f1_score\n",
    "print(f\"Naive Bayes F1-Score: {f1_score(y_test, y_pred_nb, average='weighted')}\")\n",
    "print(f\"SVM F1-Score: {f1_score(y_test, y_pred_svm, average='weighted')}\")\n"
   ]
  },
  {
   "cell_type": "markdown",
   "id": "5533a847-ba6e-4fbb-8a96-eb8bd49e8ea7",
   "metadata": {},
   "source": [
    "**Naive Bayes** is a fast and simple model, performing well for small datasets or when feature independence holds.\n",
    "\n",
    "**SVM** is more powerful for high-dimensional data like text, often yielding better results when classes are well separated."
   ]
  },
  {
   "cell_type": "code",
   "execution_count": null,
   "id": "b5b4be2a-f221-460c-be53-dc30dd4ab858",
   "metadata": {},
   "outputs": [],
   "source": []
  }
 ],
 "metadata": {
  "kernelspec": {
   "display_name": "Python 3 (ipykernel)",
   "language": "python",
   "name": "python3"
  },
  "language_info": {
   "codemirror_mode": {
    "name": "ipython",
    "version": 3
   },
   "file_extension": ".py",
   "mimetype": "text/x-python",
   "name": "python",
   "nbconvert_exporter": "python",
   "pygments_lexer": "ipython3",
   "version": "3.12.4"
  }
 },
 "nbformat": 4,
 "nbformat_minor": 5
}
